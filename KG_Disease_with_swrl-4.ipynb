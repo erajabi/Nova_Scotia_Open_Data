{
 "cells": [
  {
   "cell_type": "code",
   "execution_count": 13,
   "metadata": {},
   "outputs": [],
   "source": [
    "from rdflib import Graph,Literal,RDF,URIRef, RDFS\n",
    "from rdflib.namespace import XSD, FOAF\n",
    "from rdflib import Namespace\n",
    "import pandas as pd\n",
    "from sodapy import Socrata"
   ]
  },
  {
   "cell_type": "code",
   "execution_count": 29,
   "metadata": {},
   "outputs": [],
   "source": [
    "from rdflib.namespace import DCTERMS, DC"
   ]
  },
  {
   "cell_type": "code",
   "execution_count": 30,
   "metadata": {},
   "outputs": [],
   "source": [
    "# pip install sodapy"
   ]
  },
  {
   "cell_type": "code",
   "execution_count": 31,
   "metadata": {},
   "outputs": [
    {
     "data": {
      "text/plain": [
       "<Graph identifier=N821d2db0d97d434493171f174cfc6bd0 (<class 'rdflib.graph.Graph'>)>"
      ]
     },
     "execution_count": 31,
     "metadata": {},
     "output_type": "execute_result"
    }
   ],
   "source": [
    "g = Graph()\n",
    "g.parse('NSOD_Ont.owl')\n"
   ]
  },
  {
   "cell_type": "code",
   "execution_count": 32,
   "metadata": {},
   "outputs": [
    {
     "data": {
      "text/plain": [
       "<Graph identifier=N2a80d5f514874a9b8f6ebf60b2383b17 (<class 'rdflib.graph.Graph'>)>"
      ]
     },
     "execution_count": 32,
     "metadata": {},
     "output_type": "execute_result"
    }
   ],
   "source": [
    "g1 = Graph()\n",
    "g1.parse('doid_2021.owl')"
   ]
  },
  {
   "cell_type": "code",
   "execution_count": 35,
   "metadata": {},
   "outputs": [
    {
     "name": "stderr",
     "output_type": "stream",
     "text": [
      "WARNING:root:Requests made without an app_token will be subject to strict throttling limits.\n"
     ]
    }
   ],
   "source": [
    "cube = Namespace(\"http://purl.org/linked-data/cube#\")\n",
    "sdmxdimension = Namespace(\"http://purl.org/linked-data/sdmx/2009/dimension#\")\n",
    "geo = Namespace (\"https://www.geonames.org/\")\n",
    "sdmx = Namespace (\"http://purl.org/linked-data/sdmx#\")\n",
    "freq = Namespace (\"http://purl.org/cld/freq/\")\n",
    "doid = Namespace (\"http://purl.obolibrary.org/obo/DOID#\")\n",
    "eg = Namespace('http://www.semanticweb.org/erajabi/ontologies/nsod#')\n",
    "dcat = Namespace('http://www.w3.org/ns/dcat#')\n",
    "dcterms = Namespace('http://purl.org/dc/terms/')\n",
    "doid = Namespace('http://purl.obolibrary.org/obo/')\n",
    "void = Namespace('http://rdfs.org/ns/void#')\n",
    "foaf = Namespace('http://xmlns.com/foaf/0.1/')\n",
    "\n",
    "g.bind('qb', cube)\n",
    "g.bind('eg', eg)\n",
    "g.bind('dimension', sdmxdimension)\n",
    "g.bind('dcat', dcat)\n",
    "g.bind('dcterms', dcterms)\n",
    "g.bind('sdmx', sdmx)\n",
    "g.bind('doid', doid)\n",
    "g.namespace_manager.bind('doid', URIRef('http://purl.obolibrary.org/obo/'))\n",
    "\n",
    "list_of_api={\"sr7h-uyxt\",    #Tetanus\n",
    "             \"naay-xy8i\",    #AIDS\n",
    "             \"5kjg-qidk\",    #Salmonellosis\n",
    "             \"r9i7-qnuh\",    #HepatitisA\n",
    "             \"w7bm-jav4\",    #HepatitisC\n",
    "             \"s4zv-fef7\",    #Shigellosis\n",
    "             \"dxhy-v63n\",    #Giardiasis\n",
    "             \"sps3-eq7e\",    #Chlamydia\n",
    "             \"fbx9-xzkq\",    #Legionellosis\n",
    "             \"enig-mjwt\",    #Cyclosporiasis\n",
    "             \"5itt-58m2\",    #Pertussis\n",
    "             \"4p4c-dv5x\",    #Malaria\n",
    "             \"tsr3-8hh2\",    #HIV\n",
    "             \"qsy8-u73r\",    #Gonorrhea\n",
    "             \"nn2f-jgv4\",    #Campylobacteriosis\n",
    "             \"4vij-qbup\",    #Botulism\n",
    "             \"5mqu-g4g2\",    #Rubella\n",
    "             \"48h6-dubm\",    #Tuberculosis\n",
    "             \"e2eh-63yz\",    #Mumps\n",
    "             \"p42z-mdp9\",    #Typhoid\n",
    "             \"9ckr-t936\",    #Cryptosporidiosis\n",
    "            }\n",
    "from rdflib.namespace import XSD\n",
    "\n",
    "client = Socrata(\"data.novascotia.ca\", None)\n",
    "    \n",
    "g.add((eg.sliceByYear,RDF.type,cube.SliceKey))\n",
    "g.add((eg.sliceByYear,RDFS.label,Literal(\"slice by year\", datatype=XSD.string)))\n",
    "g.add((eg.sliceByYear,eg.componentProperty,eg.refPeriod))\n",
    "\n",
    "\n",
    "g.add((eg.slice2015,RDF.type,cube.Slice))\n",
    "g.add((eg.slice2015,cube.sliceStructure,eg.sliceByYear))\n",
    "g.add((eg.slice2015,eg.refPeriod,Literal(2015, datatype=XSD.integer)))"
   ]
  },
  {
   "cell_type": "code",
   "execution_count": 36,
   "metadata": {},
   "outputs": [
    {
     "name": "stdout",
     "output_type": "stream",
     "text": [
      "KG was created\n"
     ]
    }
   ],
   "source": [
    "regioniri_NS=geo+\"6091530\"\n",
    "region_NS=URIRef(regioniri_NS)\n",
    "g.add((region_NS,RDFS.label,Literal(\"Nova Scotia\",datatype=XSD.string)))\n",
    "\n",
    "\n",
    "for i in list_of_api:\n",
    "    results = client.get(i)\n",
    "    results1 = client.get_metadata(i)\n",
    "    results_df = pd.DataFrame.from_records(results)\n",
    "    name=results1[\"name\"].replace(' ','')\n",
    "    name=Literal(name, datatype=XSD.string)\n",
    "    comment=Literal(results1[\"description\"],datatype=XSD.string)\n",
    "    license=URIRef(\"https://novascotia.ca/opendata/licence.asp\")\n",
    "    Category=results1[\"category\"]\n",
    "    Category=Category.replace(\" \",\"\")\n",
    "    Category=eg+Category\n",
    "    theme=URIRef(Category)\n",
    "    urlhealthandwellness=\"https://data.novascotia.ca/Health-and-Wellness/\"\n",
    "    urldataset=urlhealthandwellness+name+'/'+results1[\"id\"]\n",
    "    isDefinedBy=Literal(urldataset)\n",
    "    Dept=results1[\"metadata\"][\"custom_fields\"][\"Detailed Metadata\"][\"Department\"]\n",
    "    Dept=Dept.replace(\" \",\"\")\n",
    "    Dept=eg+Dept\n",
    "    department=URIRef(Dept)\n",
    "    DSD=URIRef(\"http://www.semanticweb.org/erajabi/ontologies/nsod#dsd-diseasedatasets\")\n",
    "    lang=results1[\"metadata\"][\"custom_fields\"][\"Detailed Metadata\"][\"Language\"]\n",
    "    if len(lang)== 3:\n",
    "        lang=\"http://www.lexvo.org/page/iso639-3/\"+lang\n",
    "    lang=URIRef(lang)\n",
    "    frequency=results1[\"metadata\"][\"custom_fields\"][\"Detailed Metadata\"][\"Frequency\"]\n",
    "    if frequency==\"Annual\" or frequency==\"Annually\"or frequency==\"annual\"or frequency==\"annually\"or frequency==\"yearly\"or frequency==\"Yearly\":\n",
    "        frequency=freq.annual\n",
    "    frequency=URIRef(frequency)\n",
    "    Location=results1[\"metadata\"][\"custom_fields\"][\"Detailed Metadata\"][\"Geographic Region Name\"]\n",
    "\n",
    "    dataset=eg+'dataset-'+name\n",
    "    dataset= URIRef(dataset)\n",
    "    g.add((dataset,RDF.type,cube.DataSet))\n",
    "    g.add((dataset,RDFS.label,name))\n",
    "    g.add((dataset,RDFS.comment,comment))\n",
    "    g.add((dataset,DCTERMS.license,license))\n",
    "#     g.add((dataset,DCAT.theme,theme))\n",
    "    g.add((dataset,RDF.type,void.Dataset))\n",
    "\n",
    "    for i in results1[\"tags\"]:\n",
    "        tag=i\n",
    "        tag=tag.replace(\" \",\"\")\n",
    "        new=eg+tag\n",
    "        keyword=URIRef(new)\n",
    "#         g.add((dataset,DCAT.keyword,keyword))\n",
    "    g.add((dataset,foaf.homepage,isDefinedBy))\n",
    "    g.add((dataset,eg.department,department))\n",
    "    g.add((dataset,cube.structure,DSD))\n",
    "    g.add((dataset,DCTERMS.language,lang))\n",
    "    g.add((dataset,DCTERMS.publisher,'Nova Scotia Open Data Portal'))\n",
    "    g.add((dataset,DCTERMS.accrualPeriodicity,frequency))\n",
    "    if(Location == 'Nova Scotia'):\n",
    "        g.add((dataset,DCTERMS.spatial,region_NS))\n",
    "        region_selected = region_NS\n",
    "\n",
    "    for i in range(1,len(results_df)):\n",
    "        x=str(i)\n",
    "        obsiri=eg+\"obs-\"+name+\"-\"+x\n",
    "        obs=URIRef(obsiri)\n",
    "        g.add((obs,cube.dataSet,dataset))\n",
    "        g.add((obs,RDF.type,cube.Observation))\n",
    "        g.add((obs,sdmxdimension.refArea,region_selected))\n",
    "\n",
    "        yr_original=str(results_df[\"year\"][i])\n",
    "#         yr='https://dbpedia.org/page/'+yr_original\n",
    "#         year=URIRef(yr)\n",
    "        g.add((obs,sdmxdimension.refPeriod,Literal(results_df[\"year\"][i], datatype=XSD.integer)))\n",
    "        regioniri=geo+\"6091530\"\n",
    "        region=URIRef(regioniri)\n",
    "        T=sdmx.sex+\"-T\"\n",
    "        T = URIRef(T)\n",
    "        g.add((obs,sdmx.sex,T))\n",
    "        numberofcases=Literal(results_df[\"number_of_cases\"][i],datatype=XSD.integer)\n",
    "        g.add((obs,eg.numberofcases,numberofcases))\n",
    "        rate_per_100_000_population=Literal(results_df[\"rate_per_100_000_population\"][i],datatype=XSD.float)\n",
    "        g.add((obs,eg.rateper100kpopulation,numberofcases))\n",
    "        disease=results_df[\"disease\"][i]\n",
    "        disease=disease.lower()\n",
    "        if (disease==\"human immunodeficiency virus\"):\n",
    "            disease=\"human immunodeficiency virus infectious disease\"\n",
    "        elif (disease==\"typhoid\"):\n",
    "            disease=\"typhoid fever\"\n",
    "        elif (disease==\"acquired immune deficiency syndrome\"):\n",
    "            disease=\"acquired immunodeficiency syndrome\"\n",
    "        elif (disease==\"hepatitis c\"):\n",
    "            disease=\"hepatitis C\"\n",
    "        elif (disease==\"hepatitis a\"):\n",
    "            disease=\"hepatitis A\"\n",
    "        diseaselabel=Literal(disease, datatype=XSD.string)\n",
    "        qres = g1.query(\"\"\"SELECT ?o ?superclass ?superClassLabel WHERE { ?o rdfs:subClassOf ?superclass. ?superclass rdfs:label ?superClassLabel.\n",
    "                ?o rdfs:label ?label. }\"\"\",\n",
    "                initNs ={\"rdf\": RDF,\"rdfs\": RDFS},\n",
    "                initBindings={\"label\": diseaselabel })\n",
    "\n",
    "        if(len(qres)>0):\n",
    "            g.add((obs,RDFS.label,diseaselabel))\n",
    "            for row in qres:\n",
    "#                 g.add((obs,eg.hasdisease,URIRef(row.superclass)))\n",
    "                g.add((obs,eg.hasdisease,URIRef(row.o)))\n",
    "                g.add((URIRef(row.o),RDF.type,eg.Disease))\n",
    "#                 g.add((URIRef(row.o),RDF.type,URIRef(row.superclass)))\n",
    "                g.add((URIRef(row.o),RDFS.label,diseaselabel))\n",
    "                g.add((URIRef(row.superclass),RDF.type,eg.Disease))\n",
    "                g.add((URIRef(row.superclass),RDFS.label,row.superClassLabel))\n",
    "                g.add((URIRef(row.o),doid.is_a,URIRef(row.superclass)))\n",
    "\n",
    "        if(yr_original=='2015'):\n",
    "                g.add((eg.slice2015,cube.observation,obs))  \n",
    "        \n",
    "#     break\n",
    "g.serialize('NSOD_KG.rdf',format='xml')      \n",
    "print('KG was created')"
   ]
  },
  {
   "cell_type": "code",
   "execution_count": 488,
   "metadata": {},
   "outputs": [],
   "source": [
    "diseaselabel = Literal(\"hepatitis C\")\n",
    "qres = g1.query(\"\"\"SELECT ?o ?s1 ?superClassLabel WHERE { ?o rdfs:subClassOf ?s1. ?s1 rdfs:label ?superClassLabel.\n",
    "                ?o rdfs:label ?label. }\"\"\",\n",
    "                initNs ={\"rdf\": RDF,\"rdfs\": RDFS},\n",
    "                initBindings={\"label\": diseaselabel })\n",
    "\n",
    "# qres = g1.query(\"\"\"SELECT ?s ?p ?o WHERE { ?s ?p ?o. ?o <http://www.w3.org/2000/01/rdf-schema#label> \"tuberculosis\"}\"\"\")\n",
    "\n",
    "if(len(qres)>0):\n",
    "    for row in qres:\n",
    "        print(f\"{row.o} ({row.s1}) {row.superClassLabel}\")\n",
    "\n",
    "\n"
   ]
  },
  {
   "cell_type": "code",
   "execution_count": null,
   "metadata": {},
   "outputs": [],
   "source": []
  },
  {
   "cell_type": "code",
   "execution_count": null,
   "metadata": {},
   "outputs": [],
   "source": []
  }
 ],
 "metadata": {
  "kernelspec": {
   "display_name": "Python 3",
   "language": "python",
   "name": "python3"
  },
  "language_info": {
   "codemirror_mode": {
    "name": "ipython",
    "version": 3
   },
   "file_extension": ".py",
   "mimetype": "text/x-python",
   "name": "python",
   "nbconvert_exporter": "python",
   "pygments_lexer": "ipython3",
   "version": "3.7.3"
  }
 },
 "nbformat": 4,
 "nbformat_minor": 4
}
